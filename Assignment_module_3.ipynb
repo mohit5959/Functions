{
  "nbformat": 4,
  "nbformat_minor": 0,
  "metadata": {
    "colab": {
      "provenance": []
    },
    "kernelspec": {
      "name": "python3",
      "display_name": "Python 3"
    },
    "language_info": {
      "name": "python"
    }
  },
  "cells": [
    {
      "cell_type": "markdown",
      "source": [
        "# Functions\n"
      ],
      "metadata": {
        "id": "KyHOeGWBXZ25"
      }
    },
    {
      "cell_type": "markdown",
      "source": [
        "1. What is Python, and why is it popular What is Python, and why is it popular?\n",
        "\n",
        "    \"\"\" python is a programming language. which is a set of instruction you give to a computer and tell it what to do. its like you are giving instructions to humun but in their language.\"\"\"\n",
        "\n",
        "2. What is an interpreter in Python?\n",
        "  \n",
        "    \"\"\" Interpreter work like a translator. imagine if you want your    computer to understand your language. So for that you will right a code and interpreter will translate that particular code to give operator a desirable result.\"\"\"\n",
        "\n",
        "3. What are pre-defined keywords in Python?\n",
        "\n",
        "    \"\"\"  Pre-defined keywords are in-bult word which hold a special meaning and help to execute a code. For exampe - if , while , for, etc... \"\"\"\n",
        "\n",
        "4.  Can keywords be used as variable names?\n",
        "\n",
        "    \"\"\" No we Cannot use keywords as variable names. To use keyword there are other specific rules. \"\"\"\n",
        "\n",
        "5.  What is mutability in Python?\n",
        "   \n",
        "    \"\"\" Mutability means which can be can be changed after they are created\"\"\"\n",
        "\n",
        "6.   Why are lists mutable, but tuples are immutable?\n",
        "\n",
        "    \"\"\" Lists are mutable because it can be changed once they are created. we can modify the data even after complition. like add or remove the item etc.\n",
        "\n",
        "    In case of tuples they are immutable and cant be changed. if you want change it then you have to create a new tuple think it as a way of securing the data, since data cant be changed it is secured.\"\"\"\n",
        "\n",
        "7.  What is the difference between “==” and “is” operators in Python?\n",
        "   \n",
        "    \"\"\"  the == is a equality operator. it compare weather the element is same or not. for example - x = 1 and if i write x == 2 it will be incorrect. so basically it has compare a (2 int) assign to variable x is same/equall or not.\n",
        "\n",
        "    is operator is identify operator. for example - n Python, a is b checks if a and b refer to the exact same object in memory. It's an identity comparison.\"\"\"\n",
        "\n",
        "8.  What are logical operators in Python?\n",
        "\n",
        "    \"\"\" Think of logical operators in Python as tools you use to combine or modify statements that can be either true or false. They help you make more complex decisions in your code. There are three main ones:\n",
        "\n",
        "    AND\n",
        "    OR\n",
        "    NOT \"\"\"\n",
        "\n",
        "9.  What is type casting in Python?\n",
        "\n",
        "    \"\"\" Type Casting or Type Conversion is the process of changing the data of a value/object.\"\"\"\n",
        "\n",
        "10. What is the difference between implicit and explicit type casting?\n",
        "\n",
        "    \"\"\" Implicit Type Casting: python undrstand implicit type casting This is when Python automatically converts one data type to another without you explicitly telling it to.\n",
        "\n",
        "    Explicit Type Casting (Type Conversion): This is when you convert a data type yourself.\"\"\"\n",
        "\n",
        "11. What is the purpose of conditional statements in Python?\n",
        "\n",
        "    \"\"\" conditional statements help us to code decision on some precondition. The purpose of conditional statements in Python is to allow your program to make decisions and execute different blocks of code based on whether certain conditions are true or false.\"\"\"\n",
        "\n",
        "12. How does the elif statement work?\n",
        "\n",
        "    \"\"\" The elif statement called as \"else if\". It's used with an if statement and optionally an else statement to check for multiple conditions sequentially.\n",
        "\n",
        "    The if statement's condition is checked first. If it's True, the code block under the if is executed, and the rest of the elif and else blocks are skipped.\"\"\"\n",
        "\n",
        "13. What is the difference between for and while loops?\n",
        "\n",
        "    \"\"\"\n",
        "    for loop -  iterable objects. It's typically used when you know the number of iterations beforehand or when you want to process each item in a collection.\n",
        "\n",
        "    while loop - Used to repeatedly execute a block of code as long as a given condition is true. It's typically used when you don't know the number of iterations and the loop continues until a specific condition is met.\"\"\"\n",
        "\n",
        "14. Describe a scenario where a while loop is more suitable than a for loop.    \n",
        "\n",
        "    \"\"\" A scenario where a while loop is more suitable than a for loop is when you need to repeat an action until a specific condition is met, and you don't know in advance how many times you'll need to repeat it.\n",
        "\n",
        "    Imagine you are writing a program that needs to get a valid age from the user. The user should only be allowed to enter a positive number. You want to keep asking the user for their age until they provide a valid inpu,\"\"\"\n",
        "\n",
        "\n",
        "   "
      ],
      "metadata": {
        "id": "27Eq9BVgX1jp"
      }
    },
    {
      "cell_type": "markdown",
      "source": [
        "  -\n",
        "\n",
        "\n",
        "\n",
        "\n",
        "\n",
        "\n",
        "\n",
        "\n",
        "  "
      ],
      "metadata": {
        "id": "BbDrVwzAY2x6"
      }
    },
    {
      "cell_type": "code",
      "source": [
        "# 1 Write a Python program to print \"Hello, World!\n",
        "\n",
        "print (\"hello world\")"
      ],
      "metadata": {
        "colab": {
          "base_uri": "https://localhost:8080/"
        },
        "id": "if_MYheWxDVJ",
        "outputId": "cefac898-c8bf-474c-8b6e-15e7116bb5e3"
      },
      "execution_count": null,
      "outputs": [
        {
          "output_type": "stream",
          "name": "stdout",
          "text": [
            "hello world\n"
          ]
        }
      ]
    },
    {
      "cell_type": "code",
      "source": [
        "# 2.Write a Python program that displays your name and age\n",
        "\n",
        "Name = \" Mohit Dandotiya \"\n",
        "age  =   23\n",
        "\n",
        "print (\"my name is mohit dabdotiya\")\n",
        "print (\"my age is 23\")"
      ],
      "metadata": {
        "colab": {
          "base_uri": "https://localhost:8080/"
        },
        "id": "r8rmFBJxzdOS",
        "outputId": "638594aa-ad55-4c50-962e-4f7a785a8ea8"
      },
      "execution_count": null,
      "outputs": [
        {
          "output_type": "stream",
          "name": "stdout",
          "text": [
            "my name is mohit dabdotiya\n",
            "my age is 23\n"
          ]
        }
      ]
    },
    {
      "cell_type": "code",
      "source": [
        "# 3. Write code to print all the pre-defined keywords in Python using the keyword library\n",
        "\n",
        "import keyword\n",
        "\n",
        "print (\" list of python keyword\")\n",
        "print (keyword.kwlist)"
      ],
      "metadata": {
        "colab": {
          "base_uri": "https://localhost:8080/"
        },
        "id": "1DzKS3yf0bzC",
        "outputId": "a01cb7a0-0d13-4692-cff7-f3683facbc63"
      },
      "execution_count": null,
      "outputs": [
        {
          "output_type": "stream",
          "name": "stdout",
          "text": [
            " list of python keyword\n",
            "['False', 'None', 'True', 'and', 'as', 'assert', 'async', 'await', 'break', 'class', 'continue', 'def', 'del', 'elif', 'else', 'except', 'finally', 'for', 'from', 'global', 'if', 'import', 'in', 'is', 'lambda', 'nonlocal', 'not', 'or', 'pass', 'raise', 'return', 'try', 'while', 'with', 'yield']\n"
          ]
        }
      ]
    },
    {
      "cell_type": "code",
      "source": [
        "# 4. Write a program that checks if a given word is a Python keyword\n",
        "\n",
        "word_to_check = \"if\"\n",
        "if keyword.iskeyword:\n",
        "  print (\"if is a python keyword\")\n",
        "else: (\"print if is not a python keyword \")\n",
        "\n"
      ],
      "metadata": {
        "colab": {
          "base_uri": "https://localhost:8080/"
        },
        "id": "j0wc7H2d05Ya",
        "outputId": "c8cf9cf9-b77d-4a26-e05d-cac10c781801"
      },
      "execution_count": null,
      "outputs": [
        {
          "output_type": "stream",
          "name": "stdout",
          "text": [
            "if is a python keyword\n"
          ]
        }
      ]
    },
    {
      "cell_type": "code",
      "source": [
        "# 5. Create a list and tuple in Python, and demonstrate how attempting to change an element works differently for each.\n",
        "\n",
        "my_list = [1, 5, 85, 98, 44, 54]\n",
        "print (my_list)\n",
        "\n",
        "my_list [2] = 58  # here 85 was changed to 58\n",
        "print (my_list)\n"
      ],
      "metadata": {
        "colab": {
          "base_uri": "https://localhost:8080/"
        },
        "id": "4zi6hEA3_8E4",
        "outputId": "c6fa7cdf-d426-4931-ec3f-4f3fbf1ec08b"
      },
      "execution_count": null,
      "outputs": [
        {
          "output_type": "stream",
          "name": "stdout",
          "text": [
            "[1, 5, 85, 98, 44, 54]\n",
            "[1, 5, 58, 98, 44, 54]\n"
          ]
        }
      ]
    },
    {
      "cell_type": "code",
      "source": [
        "tuple = (5 ,45 ,56, 85)\n",
        "print (tuple)\n",
        "tuple [1] = 55   # tuples cant be changed\n",
        "print (tuple)\n"
      ],
      "metadata": {
        "colab": {
          "base_uri": "https://localhost:8080/",
          "height": 211
        },
        "id": "jUNBRnVCDmPf",
        "outputId": "74d51d20-fec0-4a2a-ef9a-b109458646bd"
      },
      "execution_count": null,
      "outputs": [
        {
          "output_type": "stream",
          "name": "stdout",
          "text": [
            "(5, 45, 56, 85)\n"
          ]
        },
        {
          "output_type": "error",
          "ename": "TypeError",
          "evalue": "'tuple' object does not support item assignment",
          "traceback": [
            "\u001b[0;31m---------------------------------------------------------------------------\u001b[0m",
            "\u001b[0;31mTypeError\u001b[0m                                 Traceback (most recent call last)",
            "\u001b[0;32m<ipython-input-12-c1dbaad54282>\u001b[0m in \u001b[0;36m<cell line: 0>\u001b[0;34m()\u001b[0m\n\u001b[1;32m      1\u001b[0m \u001b[0mtuple\u001b[0m \u001b[0;34m=\u001b[0m \u001b[0;34m(\u001b[0m\u001b[0;36m5\u001b[0m \u001b[0;34m,\u001b[0m\u001b[0;36m45\u001b[0m \u001b[0;34m,\u001b[0m\u001b[0;36m56\u001b[0m\u001b[0;34m,\u001b[0m \u001b[0;36m85\u001b[0m\u001b[0;34m)\u001b[0m\u001b[0;34m\u001b[0m\u001b[0;34m\u001b[0m\u001b[0m\n\u001b[1;32m      2\u001b[0m \u001b[0mprint\u001b[0m \u001b[0;34m(\u001b[0m\u001b[0mtuple\u001b[0m\u001b[0;34m)\u001b[0m\u001b[0;34m\u001b[0m\u001b[0;34m\u001b[0m\u001b[0m\n\u001b[0;32m----> 3\u001b[0;31m \u001b[0mtuple\u001b[0m \u001b[0;34m[\u001b[0m\u001b[0;36m1\u001b[0m\u001b[0;34m]\u001b[0m \u001b[0;34m=\u001b[0m \u001b[0;36m55\u001b[0m\u001b[0;34m\u001b[0m\u001b[0;34m\u001b[0m\u001b[0m\n\u001b[0m\u001b[1;32m      4\u001b[0m \u001b[0mprint\u001b[0m \u001b[0;34m(\u001b[0m\u001b[0mtuple\u001b[0m\u001b[0;34m)\u001b[0m\u001b[0;34m\u001b[0m\u001b[0;34m\u001b[0m\u001b[0m\n",
            "\u001b[0;31mTypeError\u001b[0m: 'tuple' object does not support item assignment"
          ]
        }
      ]
    },
    {
      "cell_type": "code",
      "source": [
        "# 6.  Write a function to demonstrate the behavior of mutable and immutable arguments\n",
        "\n",
        "a = [5 , 54, 8, 45, \"mohit\", 52  ]\n",
        "print (a)\n",
        "\n",
        "a = [5 , 54, 8, 45, \"mohit\", 52  ] # Mutable Argument (List): When you pass a mutable object like a list to a function, the function receives a reference to the original list. Any modifications made to the list inside the function will affect the original list outside the function.Mutable Argument (List): When you pass a mutable object like a list to a function, the function receives a reference to the original list. Any modifications made to the list inside the function will affect the original list outside the function.\n",
        "a [4] = 2\n",
        "print (a)\n",
        "\n",
        "\n"
      ],
      "metadata": {
        "id": "Hxfb3-A9FSZ5",
        "colab": {
          "base_uri": "https://localhost:8080/"
        },
        "outputId": "14067e02-376c-4982-c7ed-89bc8271d5a4"
      },
      "execution_count": null,
      "outputs": [
        {
          "output_type": "stream",
          "name": "stdout",
          "text": [
            "[5, 54, 8, 45, 'mohit', 52]\n",
            "[5, 54, 8, 45, 2, 52]\n"
          ]
        }
      ]
    },
    {
      "cell_type": "code",
      "source": [
        "a = \"mohit\"\n",
        "print (a)\n",
        "\n"
      ],
      "metadata": {
        "colab": {
          "base_uri": "https://localhost:8080/"
        },
        "id": "kednfXRpZ8Nm",
        "outputId": "dc9dc424-8c29-4529-8f2d-3c88a063b692"
      },
      "execution_count": null,
      "outputs": [
        {
          "output_type": "stream",
          "name": "stdout",
          "text": [
            "mohit\n"
          ]
        }
      ]
    },
    {
      "cell_type": "code",
      "source": [
        "a = \"mohit\"\n",
        "a [0] =\"r\"   #(immutable behaviour) here i tried to change str value ( 0 = m ) to (0 = r) but it dosent changed."
      ],
      "metadata": {
        "id": "KvdSbhrtbz5K",
        "colab": {
          "base_uri": "https://localhost:8080/",
          "height": 159
        },
        "outputId": "6407072d-c57a-4334-d487-e765f84cbc35"
      },
      "execution_count": null,
      "outputs": [
        {
          "output_type": "error",
          "ename": "TypeError",
          "evalue": "'str' object does not support item assignment",
          "traceback": [
            "\u001b[0;31m---------------------------------------------------------------------------\u001b[0m",
            "\u001b[0;31mTypeError\u001b[0m                                 Traceback (most recent call last)",
            "\u001b[0;32m<ipython-input-24-1b3da1cbc75a>\u001b[0m in \u001b[0;36m<cell line: 0>\u001b[0;34m()\u001b[0m\n\u001b[1;32m      1\u001b[0m \u001b[0ma\u001b[0m \u001b[0;34m=\u001b[0m \u001b[0;34m\"mohit\"\u001b[0m\u001b[0;34m\u001b[0m\u001b[0;34m\u001b[0m\u001b[0m\n\u001b[0;32m----> 2\u001b[0;31m \u001b[0ma\u001b[0m \u001b[0;34m[\u001b[0m\u001b[0;36m0\u001b[0m\u001b[0;34m]\u001b[0m \u001b[0;34m=\u001b[0m\u001b[0;34m\"r\"\u001b[0m\u001b[0;34m\u001b[0m\u001b[0;34m\u001b[0m\u001b[0m\n\u001b[0m",
            "\u001b[0;31mTypeError\u001b[0m: 'str' object does not support item assignment"
          ]
        }
      ]
    },
    {
      "cell_type": "code",
      "source": [
        "# 8. Write a program to demonstrate the use of logical operators\n",
        "# here i have used and operator and it require all/both the condition must match\n",
        "# in 1 both the condition is true, so he is paas\n",
        "# in 2 example one condition is not true so he is fail\n",
        "mohit_mark = 50\n",
        "if mohit_mark > 35 and mohit_mark < 50:\n",
        "  print (\"he is pass\")\n",
        "else:\n",
        "  print(\"he is fail\")\n"
      ],
      "metadata": {
        "colab": {
          "base_uri": "https://localhost:8080/"
        },
        "id": "I_ugRYIHiNG0",
        "outputId": "cb4a85f7-603a-4710-d13a-0bc4d681f1ba"
      },
      "execution_count": null,
      "outputs": [
        {
          "output_type": "stream",
          "name": "stdout",
          "text": [
            "he is pass\n"
          ]
        }
      ]
    },
    {
      "cell_type": "code",
      "source": [
        "# here i have use or operator and only one condition is true ( his marks is greater then 50).\n",
        "mohit_mark = 51\n",
        "if mohit_mark > 35 or mohit_mark < 50:\n",
        "  print (\"he is pass\")\n",
        "else:\n",
        "  print(\"he is fail\")\n"
      ],
      "metadata": {
        "colab": {
          "base_uri": "https://localhost:8080/"
        },
        "id": "ifx7trgTmbuk",
        "outputId": "eaa9ae7d-2f98-4d5c-bf5c-317ed88644f4"
      },
      "execution_count": null,
      "outputs": [
        {
          "output_type": "stream",
          "name": "stdout",
          "text": [
            "he is pass\n"
          ]
        }
      ]
    },
    {
      "cell_type": "code",
      "source": [
        "9.# Write a Python program to convert user input from string to integer, float, and boolean types.\n",
        "# str to int\n",
        "a = '3'\n",
        "print (type(a))\n",
        "print (int (a))"
      ],
      "metadata": {
        "colab": {
          "base_uri": "https://localhost:8080/"
        },
        "id": "gUq0YSHMtNXE",
        "outputId": "f70f825f-895b-4a22-bb7b-ce61f9c4918f"
      },
      "execution_count": null,
      "outputs": [
        {
          "output_type": "stream",
          "name": "stdout",
          "text": [
            "<class 'str'>\n",
            "3\n"
          ]
        }
      ]
    },
    {
      "cell_type": "code",
      "source": [
        "# float to int\n",
        "\n",
        "x = 2.5\n",
        "print (type(x))\n",
        "print (int(x))\n"
      ],
      "metadata": {
        "colab": {
          "base_uri": "https://localhost:8080/"
        },
        "id": "fDpMCONhu4k8",
        "outputId": "53f9ce97-7d4e-49c9-dfcf-c01541a45e5d"
      },
      "execution_count": null,
      "outputs": [
        {
          "output_type": "stream",
          "name": "stdout",
          "text": [
            "<class 'float'>\n",
            "2\n"
          ]
        }
      ]
    },
    {
      "cell_type": "code",
      "source": [
        "10.# Write code to demonstrate type casting with list elements\n",
        "   # i have provided example with (str to int)\n",
        "\n",
        "numbers = [ \"5\" , \"45\" , \"23\", \"98\", ]\n",
        "# Type casting: Convert each string to an integer\n",
        "\n",
        "int_numbers = [int(num) for num in numbers]\n",
        "print(\"Original list (strings):\", numbers)\n",
        "print(\"Converted list (integers):\", int_numbers)\n"
      ],
      "metadata": {
        "colab": {
          "base_uri": "https://localhost:8080/"
        },
        "id": "TZHmMp9lu7Ck",
        "outputId": "fdd88b30-b5ca-4bbf-e2eb-0bd3ffa359e1"
      },
      "execution_count": null,
      "outputs": [
        {
          "output_type": "stream",
          "name": "stdout",
          "text": [
            "Original list (strings): ['5', '45', '23', '98']\n",
            "Converted list (integers): [5, 45, 23, 98]\n"
          ]
        }
      ]
    },
    {
      "cell_type": "code",
      "source": [],
      "metadata": {
        "id": "74wvR64lBxoJ"
      },
      "execution_count": null,
      "outputs": []
    },
    {
      "cell_type": "code",
      "source": [
        "11. # Write a program that checks if a number is positive, negative, or zero\n",
        "    # here we can see num is 45 and > 0 hence it is positive\n",
        "    # if i have had used a num less then 0 (-1) it would be negative\n",
        "    # the no is 0 itself\n",
        "numbers = 45\n",
        "if numbers > 0:\n",
        "  print (\"number is positive\")\n",
        "elif numbers < 0:\n",
        "  print (\"number is negative\")\n",
        "else:\n",
        "  print (\"number is zero\")"
      ],
      "metadata": {
        "colab": {
          "base_uri": "https://localhost:8080/"
        },
        "id": "fWXAYctYCtbT",
        "outputId": "7359da0d-ba9b-4005-df37-a2469602b87e"
      },
      "execution_count": null,
      "outputs": [
        {
          "output_type": "stream",
          "name": "stdout",
          "text": [
            "number is positive\n"
          ]
        }
      ]
    },
    {
      "cell_type": "code",
      "source": [],
      "metadata": {
        "id": "3tFg4gMoFIdm"
      },
      "execution_count": null,
      "outputs": []
    },
    {
      "cell_type": "code",
      "source": [
        "12. #  Write a for loop to print numbers from 1 to 100\n",
        "\n",
        "\n",
        "for i in range (101):\n",
        "  print (i)\n",
        "\n",
        "\n",
        "\n"
      ],
      "metadata": {
        "colab": {
          "base_uri": "https://localhost:8080/"
        },
        "id": "8HlnOHDnFNrH",
        "outputId": "c0c80c8e-cd90-4f8f-c6e5-71dd79387038"
      },
      "execution_count": null,
      "outputs": [
        {
          "output_type": "stream",
          "name": "stdout",
          "text": [
            "0\n",
            "1\n",
            "2\n",
            "3\n",
            "4\n",
            "5\n",
            "6\n",
            "7\n",
            "8\n",
            "9\n",
            "10\n",
            "11\n",
            "12\n",
            "13\n",
            "14\n",
            "15\n",
            "16\n",
            "17\n",
            "18\n",
            "19\n",
            "20\n",
            "21\n",
            "22\n",
            "23\n",
            "24\n",
            "25\n",
            "26\n",
            "27\n",
            "28\n",
            "29\n",
            "30\n",
            "31\n",
            "32\n",
            "33\n",
            "34\n",
            "35\n",
            "36\n",
            "37\n",
            "38\n",
            "39\n",
            "40\n",
            "41\n",
            "42\n",
            "43\n",
            "44\n",
            "45\n",
            "46\n",
            "47\n",
            "48\n",
            "49\n",
            "50\n",
            "51\n",
            "52\n",
            "53\n",
            "54\n",
            "55\n",
            "56\n",
            "57\n",
            "58\n",
            "59\n",
            "60\n",
            "61\n",
            "62\n",
            "63\n",
            "64\n",
            "65\n",
            "66\n",
            "67\n",
            "68\n",
            "69\n",
            "70\n",
            "71\n",
            "72\n",
            "73\n",
            "74\n",
            "75\n",
            "76\n",
            "77\n",
            "78\n",
            "79\n",
            "80\n",
            "81\n",
            "82\n",
            "83\n",
            "84\n",
            "85\n",
            "86\n",
            "87\n",
            "88\n",
            "89\n",
            "90\n",
            "91\n",
            "92\n",
            "93\n",
            "94\n",
            "95\n",
            "96\n",
            "97\n",
            "98\n",
            "99\n",
            "100\n"
          ]
        }
      ]
    },
    {
      "cell_type": "code",
      "source": [],
      "metadata": {
        "id": "EswlRgbzGySY"
      },
      "execution_count": null,
      "outputs": []
    },
    {
      "cell_type": "code",
      "source": [
        "13. # Write a Python program to find the sum of all even numbers between 1 and 500\n",
        "\n",
        "numbers = 0\n",
        "for number in range (1, 501):\n",
        "  if number % 2 == 0:\n",
        "     numbers += number\n",
        "print (\" the sum of even numbers is:\",numbers)\n"
      ],
      "metadata": {
        "colab": {
          "base_uri": "https://localhost:8080/"
        },
        "id": "xfm2H8hTG_l8",
        "outputId": "cd946538-b487-472c-9f2b-a33eee7d5908"
      },
      "execution_count": null,
      "outputs": [
        {
          "output_type": "stream",
          "name": "stdout",
          "text": [
            " the sum of even numbers is: 62750\n"
          ]
        }
      ]
    },
    {
      "cell_type": "code",
      "source": [
        "14. # Write a program to reverse a string using a while loop\n",
        "\n",
        "s = \"mohit\"\n",
        "output = ''\n",
        "i = len(s) - 1\n",
        "while i >= 0:\n",
        "    output = output + s[i]\n",
        "    i = i - 1\n",
        "print(output)"
      ],
      "metadata": {
        "id": "roOGf74Db9FW",
        "colab": {
          "base_uri": "https://localhost:8080/"
        },
        "outputId": "e8968a74-d561-41df-aecd-ab2830a9a2c5"
      },
      "execution_count": 14,
      "outputs": [
        {
          "output_type": "stream",
          "name": "stdout",
          "text": [
            "tihom\n"
          ]
        }
      ]
    },
    {
      "cell_type": "code",
      "source": [
        "15.# Write a Python program to calculate the factorial of a number provided by the user using a while loop\n",
        "num = 5\n",
        "\n",
        "factorial = 1\n",
        "i = num\n",
        "while i > 0:\n",
        "    factorial *= i\n",
        "    i -= 1\n",
        "print(\"Factorial of\", num, \"is:\", factorial)"
      ],
      "metadata": {
        "colab": {
          "base_uri": "https://localhost:8080/"
        },
        "id": "9DZeIpMPdTUH",
        "outputId": "632dd251-7423-4860-9bc5-0041b3532402"
      },
      "execution_count": 16,
      "outputs": [
        {
          "output_type": "stream",
          "name": "stdout",
          "text": [
            "Factorial of 5 is: 120\n"
          ]
        }
      ]
    },
    {
      "cell_type": "code",
      "source": [
        "\n"
      ],
      "metadata": {
        "id": "Ufm5Im7id6JH"
      },
      "execution_count": null,
      "outputs": []
    }
  ]
}